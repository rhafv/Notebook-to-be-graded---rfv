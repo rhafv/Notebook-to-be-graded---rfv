{
 "cells": [
  {
   "cell_type": "markdown",
   "metadata": {},
   "source": [
    "<center>\n",
    "    <img src=\"https://s3-api.us-geo.objectstorage.softlayer.net/cf-courses-data/CognitiveClass/Logos/organization_logo/organization_logo.png\" width=\"300\" alt=\"cognitiveclass.ai logo\"  />\n",
    "</center>\n"
   ]
  },
  {
   "cell_type": "markdown",
   "metadata": {},
   "source": [
    "#### Add your code below following the instructions given in the course\n"
   ]
  },
  {
   "cell_type": "markdown",
   "metadata": {},
   "source": [
    "# My Jupyter Notebook on IBM Watson Studio"
   ]
  },
  {
   "cell_type": "markdown",
   "metadata": {},
   "source": [
    "**Rafael Flores** <br> Civil Engineer\n",
    "_____________"
   ]
  },
  {
   "cell_type": "markdown",
   "metadata": {},
   "source": [
    "*I am interested in Data Science because I like statistics and data analysis. Moreover, it is clear that Data Science is gaining greater importance on many industries.*\n",
    "_____________"
   ]
  },
  {
   "cell_type": "markdown",
   "metadata": {},
   "source": [
    "## The simple code below is meant to assign a numerical value to variables x and y and then conduct and display an addition x+y"
   ]
  },
  {
   "cell_type": "code",
   "execution_count": 11,
   "metadata": {},
   "outputs": [
    {
     "name": "stdout",
     "output_type": "stream",
     "text": [
      "x+y=\n"
     ]
    },
    {
     "data": {
      "text/plain": [
       "15"
      ]
     },
     "execution_count": 11,
     "metadata": {},
     "output_type": "execute_result"
    }
   ],
   "source": [
    "x = 10\n",
    "y = 5\n",
    "print('x+y=')\n",
    "x+y"
   ]
  },
  {
   "cell_type": "markdown",
   "metadata": {},
   "source": [
    "Here are some links that could be of interest for data scientists: <br>\n",
    "\n",
    "- <a href=\"https://dataplatform.cloud.ibm.com/gallery\">IBM Cloud Gallery</a>\n",
    "- <a href=\"https://www.coursera.org/professional-certificates/ibm-data-science?\" >IBM Data Science Professional Certificate - Coursera</a>\n",
    "- <a href=\"https://github.com/\" >GitHub</a>\n",
    "- <a href=\"https://www.rstudio.com/\">RStudio</a>\n",
    "> Note that to gain access to these resources, one has to create an account on each website\n",
    "\n",
    "Here are some tips\n",
    "1. In order to strikethrough text one should use opening and closing \\~~ marks, ~~like in this example~~.\n",
    "2. *Italics* are created by surrounding text either with <br>\n",
    " 2.1 within *asterisc* \\( * * ) markers, or <br>\n",
    " 2.2 within _underscore_ \\( _ _ ) markers.\n"
   ]
  }
 ],
 "metadata": {
  "kernelspec": {
   "display_name": "Python",
   "language": "python",
   "name": "conda-env-python-py"
  },
  "language_info": {
   "codemirror_mode": {
    "name": "ipython",
    "version": 3
   },
   "file_extension": ".py",
   "mimetype": "text/x-python",
   "name": "python",
   "nbconvert_exporter": "python",
   "pygments_lexer": "ipython3",
   "version": "3.7.12"
  }
 },
 "nbformat": 4,
 "nbformat_minor": 4
}
